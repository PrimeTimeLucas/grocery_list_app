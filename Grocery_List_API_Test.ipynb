import requests
import json
from IPython.display import Markdown

BASE_URL = "http://localhost:5000"

# Helper function for pretty printing
def print_md(string):
    display(Markdown(string))

# Section 1: User Registration
print_md("## 1. User Registration")
register_data = {
    "username": "test_user",
    "password": "securePass123!"
}
response = requests.post(f"{BASE_URL}/register", json=register_data)
print(f"Status Code: {response.status_code}")
print(json.dumps(response.json(), indent=2))

# Section 2: User Login
print_md("\n## 2. User Login")
login_data = {
    "username": "test_user",
    "password": "securePass123!"
}
response = requests.post(f"{BASE_URL}/login", json=login_data)
print(f"Status Code: {response.status_code}")
if response.status_code == 200:
    access_token = response.json()["access_token"]
    print(f"Access Token: {access_token[:15]}...")
else:
    print(json.dumps(response.json(), indent=2))

# Section 3: Create Grocery List
print_md("\n## 3. Create Grocery List")
headers = {"Authorization": f"Bearer {access_token}"}
list_data = {
    "items": ["Milk", "Eggs", "Bread"]
}
response = requests.post(
    f"{BASE_URL}/lists",
    json=list_data,
    headers=headers
)
print(f"Status Code: {response.status_code}")
if response.status_code == 201:
    list_id = response.json()
    print(f"Created List ID: {list_id}")

# Section 4: Retrieve Grocery Lists
print_md("\n## 4. Retrieve Grocery Lists")
response = requests.get(f"{BASE_URL}/lists", headers=headers)
print(f"Status Code: {response.status_code}")
print("Lists:")
print(json.dumps(response.json(), indent=2))

# Section 5: Error Testing
print_md("\n## 5. Error Testing")

# Test invalid credentials
print_md("### Invalid Login")
bad_login = {"username": "wrong_user", "password": "wrong_pass"}
response = requests.post(f"{BASE_URL}/login", json=bad_login)
print(f"Status Code: {response.status_code}")
print(json.dumps(response.json(), indent=2))

# Test duplicate registration
print_md("\n### Duplicate Registration")
response = requests.post(f"{BASE_URL}/register", json=register_data)
print(f"Status Code: {response.status_code}")
print(json.dumps(response.json(), indent=2))
