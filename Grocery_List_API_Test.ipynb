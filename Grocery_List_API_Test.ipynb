{
 "cells": [
  {
   "cell_type": "code",
   "execution_count": 43,
   "metadata": {},
   "outputs": [],
   "source": [
    "import requests\n",
    "import json"
   ]
  },
  {
   "cell_type": "code",
   "execution_count": 44,
   "metadata": {},
   "outputs": [],
   "source": [
    "BASE_URL = \"http://localhost:5000\""
   ]
  },
  {
   "cell_type": "markdown",
   "metadata": {},
   "source": [
    "# Section 1: User Registration"
   ]
  },
  {
   "cell_type": "markdown",
   "metadata": {},
   "source": [
    "## 1. User Registration"
   ]
  },
  {
   "cell_type": "code",
   "execution_count": 45,
   "metadata": {},
   "outputs": [
    {
     "name": "stdout",
     "output_type": "stream",
     "text": [
      "Status Code: 201\n",
      "{\n",
      "  \"message\": \"User created\"\n",
      "}\n"
     ]
    }
   ],
   "source": [
    "register_data = {\n",
    "    \"username\": \"test_user\",\n",
    "    \"password\": \"securePass123!\"\n",
    "}\n",
    "response = requests.post(f\"{BASE_URL}/register\", json=register_data)\n",
    "print(f\"Status Code: {response.status_code}\")\n",
    "print(json.dumps(response.json(), indent=2))"
   ]
  },
  {
   "cell_type": "markdown",
   "metadata": {},
   "source": [
    "# Section 2: User Login"
   ]
  },
  {
   "cell_type": "markdown",
   "metadata": {},
   "source": [
    "## 2. User Login"
   ]
  },
  {
   "cell_type": "code",
   "execution_count": 41,
   "metadata": {},
   "outputs": [
    {
     "name": "stdout",
     "output_type": "stream",
     "text": [
      "Status Code: 200\n",
      "Access Token: eyJhbGciOiJIUzI...\n"
     ]
    }
   ],
   "source": [
    "login_data = {\n",
    "    \"username\": \"test_user\",\n",
    "    \"password\": \"securePass123!\"\n",
    "}\n",
    "response = requests.post(f\"{BASE_URL}/login\", json=login_data)\n",
    "print(f\"Status Code: {response.status_code}\")\n",
    "if response.status_code == 200:\n",
    "    access_token = response.json()[\"access_token\"]\n",
    "    print(f\"Access Token: {access_token[:15]}...\")\n",
    "else:\n",
    "    print(json.dumps(response.json(), indent=2))"
   ]
  },
  {
   "cell_type": "markdown",
   "metadata": {},
   "source": [
    "# Section 3: Create Grocery List"
   ]
  },
  {
   "cell_type": "markdown",
   "metadata": {},
   "source": [
    "## 3. Create Grocery List"
   ]
  },
  {
   "cell_type": "code",
   "execution_count": 42,
   "metadata": {},
   "outputs": [
    {
     "name": "stdout",
     "output_type": "stream",
     "text": [
      "Status Code: 201\n",
      "Created List ID: 1\n",
      "Total: 8.97\n"
     ]
    }
   ],
   "source": [
    "headers = {\"Authorization\": f\"Bearer {access_token}\"}\n",
    "list_data = {\n",
    "    \"store_name\": \"Grocery Store\",\n",
    "    \"items\": [\n",
    "        {\n",
    "            \"name\": \"Milk\",\n",
    "            \"price\": 2.99\n",
    "        },\n",
    "        {\n",
    "            \"name\": \"Eggs\",\n",
    "            \"price\": 3.49\n",
    "        },\n",
    "        {\n",
    "            \"name\": \"Bread\",\n",
    "            \"price\": 2.49\n",
    "        }\n",
    "    ]\n",
    "}\n",
    "response = requests.post(\n",
    "    f\"{BASE_URL}/lists\",\n",
    "    json=list_data,\n",
    "    headers=headers\n",
    ")\n",
    "print(f\"Status Code: {response.status_code}\")\n",
    "if response.status_code == 201:\n",
    "    result = response.json()\n",
    "    list_id = result['id']\n",
    "    print(f\"Created List ID: {list_id}\")\n",
    "    print(f\"Total: {result['total']}\")"
   ]
  },
  {
   "cell_type": "markdown",
   "metadata": {},
   "source": [
    "# Section 4: Retrieve Grocery Lists"
   ]
  },
  {
   "cell_type": "markdown",
   "metadata": {},
   "source": [
    "## 4. Retrieve Grocery Lists"
   ]
  },
  {
   "cell_type": "code",
   "execution_count": 27,
   "metadata": {},
   "outputs": [
    {
     "name": "stdout",
     "output_type": "stream",
     "text": [
      "Status Code: 200\n",
      "Lists:\n",
      "[\n",
      "  {\n",
      "    \"created_at\": \"2025-03-11T11:46:22\",\n",
      "    \"id\": 1,\n",
      "    \"item_count\": 3,\n",
      "    \"store\": \"Grocery Store\",\n",
      "    \"total\": 8.97\n",
      "  }\n",
      "]\n"
     ]
    }
   ],
   "source": [
    "response = requests.get(f\"{BASE_URL}/lists\", headers=headers)\n",
    "print(f\"Status Code: {response.status_code}\")\n",
    "print(\"Lists:\")\n",
    "print(json.dumps(response.json(), indent=2))"
   ]
  },
  {
   "cell_type": "markdown",
   "metadata": {},
   "source": [
    "# Section 5: Update List Test"
   ]
  },
  {
   "cell_type": "markdown",
   "metadata": {},
   "source": [
    "## 5. Update Grocery List"
   ]
  },
  {
   "cell_type": "code",
   "execution_count": 28,
   "metadata": {},
   "outputs": [
    {
     "name": "stdout",
     "output_type": "stream",
     "text": [
      "Get List Details:\n",
      "{\n",
      "  \"id\": 1,\n",
      "  \"items\": [\n",
      "    {\n",
      "      \"name\": \"Milk\",\n",
      "      \"price\": 2.99,\n",
      "      \"store\": \"Grocery Store\"\n",
      "    },\n",
      "    {\n",
      "      \"name\": \"Eggs\",\n",
      "      \"price\": 3.49,\n",
      "      \"store\": \"Grocery Store\"\n",
      "    },\n",
      "    {\n",
      "      \"name\": \"Bread\",\n",
      "      \"price\": 2.49,\n",
      "      \"store\": \"Grocery Store\"\n",
      "    }\n",
      "  ],\n",
      "  \"store\": \"Grocery Store\",\n",
      "  \"total\": 8.97\n",
      "}\n"
     ]
    }
   ],
   "source": [
    "if lists := response.json():\n",
    "    list_id = lists[0]['id']\n",
    "    detail_response = requests.get(\n",
    "        f\"{BASE_URL}/lists/{list_id}\",\n",
    "        headers=headers\n",
    "    )\n",
    "    print(\"Get List Details:\")\n",
    "    print(json.dumps(detail_response.json(), indent=2))"
   ]
  },
  {
   "cell_type": "markdown",
   "metadata": {},
   "source": [
    "# Section 6: Verify Update"
   ]
  },
  {
   "cell_type": "markdown",
   "metadata": {},
   "source": [
    "## 6. Verify Updated List"
   ]
  },
  {
   "cell_type": "code",
   "execution_count": 29,
   "metadata": {},
   "outputs": [
    {
     "name": "stdout",
     "output_type": "stream",
     "text": [
      "Update Status Code: 200\n",
      "Update Response:\n",
      "{\n",
      "  \"message\": \"List updated\"\n",
      "}\n"
     ]
    }
   ],
   "source": [
    "if lists := response.json():\n",
    "    list_id = lists[0]['id']\n",
    "    update_data = {\n",
    "        \"store_name\": \"Organic Market\",\n",
    "        \"items\": [\n",
    "            {\n",
    "                \"name\": \"Almond Milk\",\n",
    "                \"price\": 4.99\n",
    "            },\n",
    "            {\n",
    "                \"name\": \"Organic Eggs\",\n",
    "                \"price\": 5.49\n",
    "            },\n",
    "            {\n",
    "                \"name\": \"Sourdough Bread\",\n",
    "                \"price\": 3.99\n",
    "            }\n",
    "        ]\n",
    "    }\n",
    "    update_response = requests.put(\n",
    "        f\"{BASE_URL}/lists/{list_id}\",\n",
    "        json=update_data,\n",
    "        headers=headers\n",
    "    )\n",
    "    print(f\"Update Status Code: {update_response.status_code}\")\n",
    "    print(\"Update Response:\")\n",
    "    print(json.dumps(update_response.json(), indent=2))"
   ]
  },
  {
   "cell_type": "markdown",
   "metadata": {},
   "source": [
    "# Section 7: Delete List Test"
   ]
  },
  {
   "cell_type": "markdown",
   "metadata": {},
   "source": [
    "## 7. Delete Grocery List"
   ]
  },
  {
   "cell_type": "code",
   "execution_count": 30,
   "metadata": {},
   "outputs": [
    {
     "name": "stdout",
     "output_type": "stream",
     "text": [
      "Delete Status Code: 200\n",
      "Delete Response:\n",
      "{\n",
      "  \"message\": \"List deleted\"\n",
      "}\n"
     ]
    }
   ],
   "source": [
    "if lists := verify_response.json():\n",
    "    list_id = lists[0]['id']\n",
    "    delete_response = requests.delete(\n",
    "        f\"{BASE_URL}/lists/{list_id}\",\n",
    "        headers=headers\n",
    "    )\n",
    "    print(f\"Delete Status Code: {delete_response.status_code}\")\n",
    "    print(\"Delete Response:\")\n",
    "    print(json.dumps(delete_response.json(), indent=2))"
   ]
  },
  {
   "cell_type": "markdown",
   "metadata": {},
   "source": [
    "# Section 8: Verify Deletion"
   ]
  },
  {
   "cell_type": "markdown",
   "metadata": {},
   "source": [
    "## 8. Verify List Deletion"
   ]
  },
  {
   "cell_type": "code",
   "execution_count": 31,
   "metadata": {},
   "outputs": [
    {
     "name": "stdout",
     "output_type": "stream",
     "text": [
      "Remaining Lists:\n",
      "[]\n"
     ]
    }
   ],
   "source": [
    "final_response = requests.get(f\"{BASE_URL}/lists\", headers=headers)\n",
    "print(\"Remaining Lists:\")\n",
    "print(json.dumps(final_response.json(), indent=2))\n"
   ]
  },
  {
   "cell_type": "code",
   "execution_count": 32,
   "metadata": {},
   "outputs": [
    {
     "name": "stdout",
     "output_type": "stream",
     "text": [
      "Updated Lists:\n",
      "[]\n"
     ]
    }
   ],
   "source": [
    "verify_response = requests.get(f\"{BASE_URL}/lists\", headers=headers)\n",
    "print(\"Updated Lists:\")\n",
    "print(json.dumps(verify_response.json(), indent=2))"
   ]
  },
  {
   "cell_type": "code",
   "execution_count": 33,
   "metadata": {},
   "outputs": [
    {
     "name": "stdout",
     "output_type": "stream",
     "text": [
      "Monthly Stats:\n",
      "[]\n"
     ]
    }
   ],
   "source": [
    "stats_response = requests.get(f\"{BASE_URL}/stats/monthly\", headers=headers)\n",
    "print(\"Monthly Stats:\")\n",
    "print(json.dumps(stats_response.json(), indent=2))"
   ]
  },
  {
   "cell_type": "markdown",
   "metadata": {},
   "source": [
    "# Section 9: Error Case Testing"
   ]
  },
  {
   "cell_type": "markdown",
   "metadata": {},
   "source": [
    "## 9. Error Case Testing"
   ]
  },
  {
   "cell_type": "markdown",
   "metadata": {},
   "source": [
    "### Update Non-Existent List"
   ]
  },
  {
   "cell_type": "code",
   "execution_count": 34,
   "metadata": {},
   "outputs": [
    {
     "name": "stdout",
     "output_type": "stream",
     "text": [
      "Status Code: 404\n",
      "{\n",
      "  \"message\": \"List not found\"\n",
      "}\n"
     ]
    }
   ],
   "source": [
    "# Test updating non-existent list\n",
    "response = requests.put(\n",
    "    f\"{BASE_URL}/lists/9999\",\n",
    "    json={\"items\": [{\"name\": \"test\", \"price\": 1.99}]},\n",
    "    headers=headers\n",
    ")\n",
    "print(f\"Status Code: {response.status_code}\")\n",
    "print(json.dumps(response.json(), indent=2))"
   ]
  },
  {
   "cell_type": "markdown",
   "metadata": {},
   "source": [
    "### Delete Non-Existent List"
   ]
  },
  {
   "cell_type": "code",
   "execution_count": 35,
   "metadata": {},
   "outputs": [
    {
     "name": "stdout",
     "output_type": "stream",
     "text": [
      "Status Code: 404\n",
      "{\n",
      "  \"message\": \"List not found\"\n",
      "}\n"
     ]
    }
   ],
   "source": [
    "response = requests.delete(\n",
    "    f\"{BASE_URL}/lists/9999\",\n",
    "    headers=headers\n",
    ")\n",
    "print(f\"Status Code: {response.status_code}\")\n",
    "print(json.dumps(response.json(), indent=2))"
   ]
  },
  {
   "cell_type": "markdown",
   "metadata": {},
   "source": [
    "### Invalid Login"
   ]
  },
  {
   "cell_type": "code",
   "execution_count": 36,
   "metadata": {},
   "outputs": [
    {
     "name": "stdout",
     "output_type": "stream",
     "text": [
      "Status Code: 401\n",
      "{\n",
      "  \"message\": \"Invalid credentials\"\n",
      "}\n"
     ]
    }
   ],
   "source": [
    "bad_login = {\"username\": \"wrong_user\", \"password\": \"wrong_pass\"}\n",
    "response = requests.post(f\"{BASE_URL}/login\", json=bad_login)\n",
    "print(f\"Status Code: {response.status_code}\")\n",
    "print(json.dumps(response.json(), indent=2))"
   ]
  },
  {
   "cell_type": "markdown",
   "metadata": {},
   "source": [
    "### Duplicate Registration"
   ]
  },
  {
   "cell_type": "code",
   "execution_count": 37,
   "metadata": {},
   "outputs": [
    {
     "name": "stdout",
     "output_type": "stream",
     "text": [
      "Status Code: 400\n",
      "{\n",
      "  \"message\": \"Each item must have name and price\"\n",
      "}\n"
     ]
    }
   ],
   "source": [
    "# Test invalid item format\n",
    "response = requests.post(\n",
    "    f\"{BASE_URL}/lists\",\n",
    "    json={\"items\": [\"Invalid item format\"]},\n",
    "    headers=headers\n",
    ")\n",
    "print(f\"Status Code: {response.status_code}\")\n",
    "print(json.dumps(response.json(), indent=2))"
   ]
  },
  {
   "cell_type": "code",
   "execution_count": 38,
   "metadata": {},
   "outputs": [
    {
     "name": "stdout",
     "output_type": "stream",
     "text": [
      "Status Code: 400\n",
      "{\n",
      "  \"message\": \"Price must be a number\"\n",
      "}\n"
     ]
    }
   ],
   "source": [
    "# Test invalid price format\n",
    "response = requests.post(\n",
    "    f\"{BASE_URL}/lists\",\n",
    "    json={\"items\": [{\"name\": \"Test\", \"price\": \"not-a-number\"}]},\n",
    "    headers=headers\n",
    ")\n",
    "print(f\"Status Code: {response.status_code}\")\n",
    "print(json.dumps(response.json(), indent=2))"
   ]
  },
  {
   "cell_type": "code",
   "execution_count": 39,
   "metadata": {},
   "outputs": [
    {
     "name": "stdout",
     "output_type": "stream",
     "text": [
      "Status Code: 400\n",
      "{\n",
      "  \"message\": \"Username already exists\"\n",
      "}\n"
     ]
    }
   ],
   "source": [
    "response = requests.post(f\"{BASE_URL}/register\", json=register_data)\n",
    "print(f\"Status Code: {response.status_code}\")\n",
    "print(json.dumps(response.json(), indent=2))"
   ]
  }
 ],
 "metadata": {
  "kernelspec": {
   "display_name": "g_list",
   "language": "python",
   "name": "python3"
  },
  "language_info": {
   "codemirror_mode": {
    "name": "ipython",
    "version": 3
   },
   "file_extension": ".py",
   "mimetype": "text/x-python",
   "name": "python",
   "nbconvert_exporter": "python",
   "pygments_lexer": "ipython3",
   "version": "3.10.16"
  }
 },
 "nbformat": 4,
 "nbformat_minor": 2
}
