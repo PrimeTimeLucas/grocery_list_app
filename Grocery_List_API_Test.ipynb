import requests
import json
from IPython.display import Markdown

BASE_URL = "http://localhost:5000"

# Helper function for pretty printing
def print_md(string):
    display(Markdown(string))

# Section 1: User Registration
print_md("## 1. User Registration")
register_data = {
    "username": "test_user",
    "password": "securePass123!"
}
response = requests.post(f"{BASE_URL}/register", json=register_data)
print(f"Status Code: {response.status_code}")
print(json.dumps(response.json(), indent=2))

# Section 2: User Login
print_md("\n## 2. User Login")
login_data = {
    "username": "test_user",
    "password": "securePass123!"
}
response = requests.post(f"{BASE_URL}/login", json=login_data)
print(f"Status Code: {response.status_code}")
if response.status_code == 200:
    access_token = response.json()["access_token"]
    print(f"Access Token: {access_token[:15]}...")
else:
    print(json.dumps(response.json(), indent=2))

# Section 3: Create Grocery List
print_md("\n## 3. Create Grocery List")
headers = {"Authorization": f"Bearer {access_token}"}
list_data = {
    "items": ["Milk", "Eggs", "Bread"]
}
response = requests.post(
    f"{BASE_URL}/lists",
    json=list_data,
    headers=headers
)
print(f"Status Code: {response.status_code}")
if response.status_code == 201:
    list_id = response.json()
    print(f"Created List ID: {list_id}")

# Section 4: Retrieve Grocery Lists
print_md("\n## 4. Retrieve Grocery Lists")
response = requests.get(f"{BASE_URL}/lists", headers=headers)
print(f"Status Code: {response.status_code}")
print("Lists:")
print(json.dumps(response.json(), indent=2))

# Section 5: Update List Test
print_md("\n## 5. Update Grocery List")
if lists := response.json():
    list_id = lists[0]['id']
    update_data = {
        "items": ["Almond Milk", "Organic Eggs", "Sourdough Bread"]
    }
    update_response = requests.put(
        f"{BASE_URL}/lists/{list_id}",
        json=update_data,
        headers=headers
    )
    print(f"Update Status Code: {update_response.status_code}")
    print("Update Response:")
    print(json.dumps(update_response.json(), indent=2))

# Section 6: Verify Update
print_md("\n## 6. Verify Updated List")
verify_response = requests.get(f"{BASE_URL}/lists", headers=headers)
print("Updated Lists:")
print(json.dumps(verify_response.json(), indent=2))

# Section 7: Delete List Test
print_md("\n## 7. Delete Grocery List")
if lists := verify_response.json():
    list_id = lists[0]['id']
    delete_response = requests.delete(
        f"{BASE_URL}/lists/{list_id}",
        headers=headers
    )
    print(f"Delete Status Code: {delete_response.status_code}")
    print("Delete Response:")
    print(json.dumps(delete_response.json(), indent=2))

# Section 8: Verify Deletion
print_md("\n## 8. Verify List Deletion")
final_response = requests.get(f"{BASE_URL}/lists", headers=headers)
print("Remaining Lists:")
print(json.dumps(final_response.json(), indent=2))

# Section 9: Error Case Testing
print_md("\n## 9. Error Case Testing")

# Test updating non-existent list
print_md("### Update Non-Existent List")
response = requests.put(
    f"{BASE_URL}/lists/9999",
    json={"items": ["test"]},
    headers=headers
)
print(f"Status Code: {response.status_code}")
print(json.dumps(response.json(), indent=2))

# Test deleting non-existent list
print_md("\n### Delete Non-Existent List")
response = requests.delete(
    f"{BASE_URL}/lists/9999",
    headers=headers
)
print(f"Status Code: {response.status_code}")
print(json.dumps(response.json(), indent=2))

# Test invalid credentials
print_md("\n### Invalid Login")
bad_login = {"username": "wrong_user", "password": "wrong_pass"}
response = requests.post(f"{BASE_URL}/login", json=bad_login)
print(f"Status Code: {response.status_code}")
print(json.dumps(response.json(), indent=2))

# Test duplicate registration
print_md("\n### Duplicate Registration")
response = requests.post(f"{BASE_URL}/register", json=register_data)
print(f"Status Code: {response.status_code}")
print(json.dumps(response.json(), indent=2))
